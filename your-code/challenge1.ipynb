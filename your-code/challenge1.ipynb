{
 "cells": [
  {
   "cell_type": "markdown",
   "metadata": {},
   "source": [
    "# Lab: Regression Analysis"
   ]
  },
  {
   "cell_type": "markdown",
   "metadata": {},
   "source": [
    "### Before you start:\n",
    "\n",
    "* Read the README.md file\n",
    "* Comment as much as you can and use the resources (README.md file) \n",
    "\n",
    "Happy learning!"
   ]
  },
  {
   "cell_type": "markdown",
   "metadata": {},
   "source": [
    "## Challenge 1\n",
    "I work at a coding bootcamp, and I have developed a theory that the younger my students are, the more often they are late to class. In order to test my hypothesis, I have collected some data in the following table:\n",
    "\n",
    "| StudentID | Age | Tardies |\n",
    "|--------|-----|------------|\n",
    "| 1      | 17  | 10         |\n",
    "| 2      | 51  | 1          |\n",
    "| 3      | 27  | 5          |\n",
    "| 4      | 21  | 9         |\n",
    "| 5      | 36  |  4         |\n",
    "| 6      | 48  |  2         |\n",
    "| 7      | 19  |  9         |\n",
    "| 8      | 26  | 6          |\n",
    "| 9      | 54  |  0         |\n",
    "| 10     | 30  |  3         |"
   ]
  },
  {
   "cell_type": "markdown",
   "metadata": {},
   "source": [
    "Use this command to create a dataframe with the data provided in the table. \n",
    "~~~~\n",
    "student_data = pd.DataFrame({'X': [x_values], 'Y': [y_values]})\n",
    "~~~~"
   ]
  },
  {
   "cell_type": "code",
   "execution_count": 3,
   "metadata": {},
   "outputs": [],
   "source": [
    "import pandas as pd\n",
    "# Show floats with 2 decimals\n",
    "pd.options.display.float_format = '{:,.2f}'.format\n",
    "import numpy as np \n",
    "import matplotlib.pyplot as plt\n",
    "import seaborn as sns\n",
    "from sklearn import linear_model"
   ]
  },
  {
   "cell_type": "markdown",
   "metadata": {},
   "source": [
    "Fun fact:\n",
    "\n",
    "The code provided above\n",
    "\n",
    "student_data = pd.DataFrame({'X': [x_values], 'Y': [y_values]}) \n",
    "\n",
    "doesn`t result in creating a dataframe.\n",
    "After consulting ChatGPT I removed the [] from the code. "
   ]
  },
  {
   "cell_type": "code",
   "execution_count": 10,
   "metadata": {},
   "outputs": [
    {
     "data": {
      "text/html": [
       "<div>\n",
       "<style scoped>\n",
       "    .dataframe tbody tr th:only-of-type {\n",
       "        vertical-align: middle;\n",
       "    }\n",
       "\n",
       "    .dataframe tbody tr th {\n",
       "        vertical-align: top;\n",
       "    }\n",
       "\n",
       "    .dataframe thead th {\n",
       "        text-align: right;\n",
       "    }\n",
       "</style>\n",
       "<table border=\"1\" class=\"dataframe\">\n",
       "  <thead>\n",
       "    <tr style=\"text-align: right;\">\n",
       "      <th></th>\n",
       "      <th>X</th>\n",
       "      <th>Y</th>\n",
       "    </tr>\n",
       "  </thead>\n",
       "  <tbody>\n",
       "    <tr>\n",
       "      <th>0</th>\n",
       "      <td>17</td>\n",
       "      <td>10</td>\n",
       "    </tr>\n",
       "    <tr>\n",
       "      <th>1</th>\n",
       "      <td>51</td>\n",
       "      <td>1</td>\n",
       "    </tr>\n",
       "    <tr>\n",
       "      <th>2</th>\n",
       "      <td>27</td>\n",
       "      <td>5</td>\n",
       "    </tr>\n",
       "    <tr>\n",
       "      <th>3</th>\n",
       "      <td>21</td>\n",
       "      <td>9</td>\n",
       "    </tr>\n",
       "    <tr>\n",
       "      <th>4</th>\n",
       "      <td>36</td>\n",
       "      <td>4</td>\n",
       "    </tr>\n",
       "  </tbody>\n",
       "</table>\n",
       "</div>"
      ],
      "text/plain": [
       "    X   Y\n",
       "0  17  10\n",
       "1  51   1\n",
       "2  27   5\n",
       "3  21   9\n",
       "4  36   4"
      ]
     },
     "execution_count": 10,
     "metadata": {},
     "output_type": "execute_result"
    }
   ],
   "source": [
    "# Your code here.\n",
    "x_values = [17,51,27,21,36,48,19,26,54,30]\n",
    "y_values= [10,1,5,9,4,2,9,6,0,3]\n",
    "student_data = pd.DataFrame({'X': x_values, 'Y': y_values})\n",
    "student_data.head()"
   ]
  },
  {
   "cell_type": "code",
   "execution_count": 15,
   "metadata": {},
   "outputs": [
    {
     "data": {
      "text/html": [
       "<div>\n",
       "<style scoped>\n",
       "    .dataframe tbody tr th:only-of-type {\n",
       "        vertical-align: middle;\n",
       "    }\n",
       "\n",
       "    .dataframe tbody tr th {\n",
       "        vertical-align: top;\n",
       "    }\n",
       "\n",
       "    .dataframe thead th {\n",
       "        text-align: right;\n",
       "    }\n",
       "</style>\n",
       "<table border=\"1\" class=\"dataframe\">\n",
       "  <thead>\n",
       "    <tr style=\"text-align: right;\">\n",
       "      <th></th>\n",
       "      <th>X</th>\n",
       "      <th>Y</th>\n",
       "      <th>Student ID</th>\n",
       "    </tr>\n",
       "  </thead>\n",
       "  <tbody>\n",
       "    <tr>\n",
       "      <th>0</th>\n",
       "      <td>17</td>\n",
       "      <td>10</td>\n",
       "      <td>1</td>\n",
       "    </tr>\n",
       "    <tr>\n",
       "      <th>1</th>\n",
       "      <td>51</td>\n",
       "      <td>1</td>\n",
       "      <td>2</td>\n",
       "    </tr>\n",
       "    <tr>\n",
       "      <th>2</th>\n",
       "      <td>27</td>\n",
       "      <td>5</td>\n",
       "      <td>3</td>\n",
       "    </tr>\n",
       "    <tr>\n",
       "      <th>3</th>\n",
       "      <td>21</td>\n",
       "      <td>9</td>\n",
       "      <td>4</td>\n",
       "    </tr>\n",
       "    <tr>\n",
       "      <th>4</th>\n",
       "      <td>36</td>\n",
       "      <td>4</td>\n",
       "      <td>5</td>\n",
       "    </tr>\n",
       "    <tr>\n",
       "      <th>5</th>\n",
       "      <td>48</td>\n",
       "      <td>2</td>\n",
       "      <td>6</td>\n",
       "    </tr>\n",
       "    <tr>\n",
       "      <th>6</th>\n",
       "      <td>19</td>\n",
       "      <td>9</td>\n",
       "      <td>7</td>\n",
       "    </tr>\n",
       "    <tr>\n",
       "      <th>7</th>\n",
       "      <td>26</td>\n",
       "      <td>6</td>\n",
       "      <td>8</td>\n",
       "    </tr>\n",
       "    <tr>\n",
       "      <th>8</th>\n",
       "      <td>54</td>\n",
       "      <td>0</td>\n",
       "      <td>9</td>\n",
       "    </tr>\n",
       "    <tr>\n",
       "      <th>9</th>\n",
       "      <td>30</td>\n",
       "      <td>3</td>\n",
       "      <td>10</td>\n",
       "    </tr>\n",
       "  </tbody>\n",
       "</table>\n",
       "</div>"
      ],
      "text/plain": [
       "    X   Y  Student ID\n",
       "0  17  10           1\n",
       "1  51   1           2\n",
       "2  27   5           3\n",
       "3  21   9           4\n",
       "4  36   4           5\n",
       "5  48   2           6\n",
       "6  19   9           7\n",
       "7  26   6           8\n",
       "8  54   0           9\n",
       "9  30   3          10"
      ]
     },
     "execution_count": 15,
     "metadata": {},
     "output_type": "execute_result"
    }
   ],
   "source": [
    "#student_data['Student ID'] = np.arange(1, len(student_data) + 1, 1, dtype=int)\n",
    "#student_data"
   ]
  },
  {
   "cell_type": "markdown",
   "metadata": {},
   "source": [
    "Draw a dispersion diagram (scatter plot) for the data."
   ]
  },
  {
   "cell_type": "code",
   "execution_count": 16,
   "metadata": {},
   "outputs": [
    {
     "data": {
      "image/png": "[encoded data removed]",
      "text/plain": [
       "<Figure size 640x480 with 1 Axes>"
      ]
     },
     "metadata": {},
     "output_type": "display_data"
    }
   ],
   "source": [
    "# Your code here.\n",
    "\n",
    "sns.scatterplot(x='X', y='Y', data=student_data)\n",
    "plt.xlabel('Age')\n",
    "plt.ylabel('Tardiness')\n",
    "plt.title('Age vs Tardiness')\n",
    "plt.show()\n"
   ]
  },
  {
   "cell_type": "markdown",
   "metadata": {},
   "source": [
    "Do you see a trend? Can you make any hypotheses about the relationship between age and number of tardies?"
   ]
  },
  {
   "cell_type": "code",
   "execution_count": null,
   "metadata": {},
   "outputs": [],
   "source": [
    "# Your response here. \n",
    "'''\n",
    "We can clearly see a negative trend, the older the student, the less tardies\n",
    "\n",
    "Hypothesis: There is a negative linear correlation between age and tardiness\n",
    "\n",
    "'''\n"
   ]
  },
  {
   "cell_type": "markdown",
   "metadata": {},
   "source": [
    "Calculate the covariance and correlation of the variables in your plot. What is the difference between these two measures? Compare their values. What do they tell you in this case? Add your responses as comments after your code."
   ]
  },
  {
   "cell_type": "code",
   "execution_count": 17,
   "metadata": {},
   "outputs": [
    {
     "data": {
      "text/html": [
       "<div>\n",
       "<style scoped>\n",
       "    .dataframe tbody tr th:only-of-type {\n",
       "        vertical-align: middle;\n",
       "    }\n",
       "\n",
       "    .dataframe tbody tr th {\n",
       "        vertical-align: top;\n",
       "    }\n",
       "\n",
       "    .dataframe thead th {\n",
       "        text-align: right;\n",
       "    }\n",
       "</style>\n",
       "<table border=\"1\" class=\"dataframe\">\n",
       "  <thead>\n",
       "    <tr style=\"text-align: right;\">\n",
       "      <th></th>\n",
       "      <th>X</th>\n",
       "      <th>Y</th>\n",
       "      <th>Student ID</th>\n",
       "    </tr>\n",
       "  </thead>\n",
       "  <tbody>\n",
       "    <tr>\n",
       "      <th>X</th>\n",
       "      <td>1.00</td>\n",
       "      <td>-0.94</td>\n",
       "      <td>0.19</td>\n",
       "    </tr>\n",
       "    <tr>\n",
       "      <th>Y</th>\n",
       "      <td>-0.94</td>\n",
       "      <td>1.00</td>\n",
       "      <td>-0.35</td>\n",
       "    </tr>\n",
       "    <tr>\n",
       "      <th>Student ID</th>\n",
       "      <td>0.19</td>\n",
       "      <td>-0.35</td>\n",
       "      <td>1.00</td>\n",
       "    </tr>\n",
       "  </tbody>\n",
       "</table>\n",
       "</div>"
      ],
      "text/plain": [
       "               X     Y  Student ID\n",
       "X           1.00 -0.94        0.19\n",
       "Y          -0.94  1.00       -0.35\n",
       "Student ID  0.19 -0.35        1.00"
      ]
     },
     "execution_count": 17,
     "metadata": {},
     "output_type": "execute_result"
    }
   ],
   "source": [
    "# Your response here.\n",
    "#correlation:\n",
    "\n",
    "student_data.corr()\n",
    "\n",
    "\n",
    "#covariance:\n"
   ]
  },
  {
   "cell_type": "markdown",
   "metadata": {},
   "source": [
    "Build a regression model for this data. What will be your outcome variable? What type of regression are you using? Add your responses as comments after your code."
   ]
  },
  {
   "cell_type": "code",
   "execution_count": 23,
   "metadata": {},
   "outputs": [],
   "source": [
    "# Your response here.\n",
    "# independent variable -> Student Age ['X']\n",
    "# target variable -> Tardiness number of tardies ['Y']\n",
    "\n",
    "model = linear_model.LinearRegression()\n",
    "X = student_data.drop(['Y', 'Student ID'], axis=1) \n",
    "y = student_data['Y']\n"
   ]
  },
  {
   "cell_type": "code",
   "execution_count": 24,
   "metadata": {},
   "outputs": [
    {
     "name": "stdout",
     "output_type": "stream",
     "text": [
      "Intercept: 12.888803363135771\n",
      "Coefficient: [-0.24282077]\n"
     ]
    }
   ],
   "source": [
    "# Fit model\n",
    "result = model.fit(X, y)\n",
    "\n",
    "print(\"Intercept:\", result.intercept_)\n",
    "print(\"Coefficient:\", result.coef_)"
   ]
  },
  {
   "cell_type": "markdown",
   "metadata": {},
   "source": [
    "Plot your regression model on your scatter plot."
   ]
  },
  {
   "cell_type": "code",
   "execution_count": 28,
   "metadata": {},
   "outputs": [
    {
     "data": {
      "image/png": "[encoded data removed]",
      "text/plain": [
       "<Figure size 640x480 with 1 Axes>"
      ]
     },
     "metadata": {},
     "output_type": "display_data"
    }
   ],
   "source": [
    "# Your code here.\n",
    "\n",
    "# Create regression line equation\n",
    "regression_line = result.intercept_ + student_data.X * result.coef_\n",
    "plt.plot(student_data.X, regression_line, c='orange')\n",
    "\n",
    "# Add line plot and scatter plot\n",
    "plt.scatter(student_data.X, student_data.Y)\n",
    "plt.xlabel('Age')\n",
    "plt.title('Age vs Tardiness')\n",
    "plt.show()\n"
   ]
  },
  {
   "cell_type": "markdown",
   "metadata": {},
   "source": [
    "Interpret the results of your model. What can conclusions can you draw from your model and how confident in these conclusions are you? Can we say that age is a good predictor of tardiness? Add your responses as comments after your code."
   ]
  },
  {
   "cell_type": "code",
   "execution_count": 27,
   "metadata": {},
   "outputs": [
    {
     "ename": "SyntaxError",
     "evalue": "incomplete input (3787503786.py, line 2)",
     "output_type": "error",
     "traceback": [
      "\u001b[1;36m  Cell \u001b[1;32mIn[27], line 2\u001b[1;36m\u001b[0m\n\u001b[1;33m    '''\u001b[0m\n\u001b[1;37m    ^\u001b[0m\n\u001b[1;31mSyntaxError\u001b[0m\u001b[1;31m:\u001b[0m incomplete input\n"
     ]
    }
   ],
   "source": [
    "# Your response here. \n",
    "'''\n",
    "Age is a good prediction of tardiness especially for age > 35\n",
    "We can see that in this particular case the actual data points are extremely close to the regression line (is this the right word)\n",
    "For age < 35 the residual (distance between actual data point and prediciton) is way higher. This means that in this case we can \n",
    "still predict tardiness on the basis of age, but our prediction is worse than for age > 35.\n",
    "We can observe the highest residual for age 30, which means that are probably other reasons (like life for example :)\n",
    "'''\n",
    "\n"
   ]
  },
  {
   "cell_type": "markdown",
   "metadata": {},
   "source": [
    "## Challenge 2\n",
    "For the second part of this lab, we will use the vehicles.csv data set. You can find a copy of the dataset in the git hub folder. This dataset includes variables related to vehicle characteristics, including the model, make, and energy efficiency standards, as well as each car's CO2 emissions. As discussed in class the goal of this exercise is to predict vehicles' CO2 emissions based on several independent variables. "
   ]
  },
  {
   "cell_type": "code",
   "execution_count": 58,
   "metadata": {},
   "outputs": [
    {
     "data": {
      "text/html": [
       "<div>\n",
       "<style scoped>\n",
       "    .dataframe tbody tr th:only-of-type {\n",
       "        vertical-align: middle;\n",
       "    }\n",
       "\n",
       "    .dataframe tbody tr th {\n",
       "        vertical-align: top;\n",
       "    }\n",
       "\n",
       "    .dataframe thead th {\n",
       "        text-align: right;\n",
       "    }\n",
       "</style>\n",
       "<table border=\"1\" class=\"dataframe\">\n",
       "  <thead>\n",
       "    <tr style=\"text-align: right;\">\n",
       "      <th></th>\n",
       "      <th>Make</th>\n",
       "      <th>Model</th>\n",
       "      <th>Year</th>\n",
       "      <th>Engine Displacement</th>\n",
       "      <th>Cylinders</th>\n",
       "      <th>Transmission</th>\n",
       "      <th>Drivetrain</th>\n",
       "      <th>Vehicle Class</th>\n",
       "      <th>Fuel Type</th>\n",
       "      <th>Fuel Barrels/Year</th>\n",
       "      <th>City MPG</th>\n",
       "      <th>Highway MPG</th>\n",
       "      <th>Combined MPG</th>\n",
       "      <th>CO2 Emission Grams/Mile</th>\n",
       "      <th>Fuel Cost/Year</th>\n",
       "    </tr>\n",
       "  </thead>\n",
       "  <tbody>\n",
       "    <tr>\n",
       "      <th>0</th>\n",
       "      <td>AM General</td>\n",
       "      <td>DJ Po Vehicle 2WD</td>\n",
       "      <td>1984</td>\n",
       "      <td>2.50</td>\n",
       "      <td>4.00</td>\n",
       "      <td>Automatic 3-spd</td>\n",
       "      <td>2-Wheel Drive</td>\n",
       "      <td>Special Purpose Vehicle 2WD</td>\n",
       "      <td>Regular</td>\n",
       "      <td>19.39</td>\n",
       "      <td>18</td>\n",
       "      <td>17</td>\n",
       "      <td>17</td>\n",
       "      <td>522.76</td>\n",
       "      <td>1950</td>\n",
       "    </tr>\n",
       "    <tr>\n",
       "      <th>1</th>\n",
       "      <td>AM General</td>\n",
       "      <td>FJ8c Post Office</td>\n",
       "      <td>1984</td>\n",
       "      <td>4.20</td>\n",
       "      <td>6.00</td>\n",
       "      <td>Automatic 3-spd</td>\n",
       "      <td>2-Wheel Drive</td>\n",
       "      <td>Special Purpose Vehicle 2WD</td>\n",
       "      <td>Regular</td>\n",
       "      <td>25.35</td>\n",
       "      <td>13</td>\n",
       "      <td>13</td>\n",
       "      <td>13</td>\n",
       "      <td>683.62</td>\n",
       "      <td>2550</td>\n",
       "    </tr>\n",
       "    <tr>\n",
       "      <th>2</th>\n",
       "      <td>AM General</td>\n",
       "      <td>Post Office DJ5 2WD</td>\n",
       "      <td>1985</td>\n",
       "      <td>2.50</td>\n",
       "      <td>4.00</td>\n",
       "      <td>Automatic 3-spd</td>\n",
       "      <td>Rear-Wheel Drive</td>\n",
       "      <td>Special Purpose Vehicle 2WD</td>\n",
       "      <td>Regular</td>\n",
       "      <td>20.60</td>\n",
       "      <td>16</td>\n",
       "      <td>17</td>\n",
       "      <td>16</td>\n",
       "      <td>555.44</td>\n",
       "      <td>2100</td>\n",
       "    </tr>\n",
       "    <tr>\n",
       "      <th>3</th>\n",
       "      <td>AM General</td>\n",
       "      <td>Post Office DJ8 2WD</td>\n",
       "      <td>1985</td>\n",
       "      <td>4.20</td>\n",
       "      <td>6.00</td>\n",
       "      <td>Automatic 3-spd</td>\n",
       "      <td>Rear-Wheel Drive</td>\n",
       "      <td>Special Purpose Vehicle 2WD</td>\n",
       "      <td>Regular</td>\n",
       "      <td>25.35</td>\n",
       "      <td>13</td>\n",
       "      <td>13</td>\n",
       "      <td>13</td>\n",
       "      <td>683.62</td>\n",
       "      <td>2550</td>\n",
       "    </tr>\n",
       "    <tr>\n",
       "      <th>4</th>\n",
       "      <td>ASC Incorporated</td>\n",
       "      <td>GNX</td>\n",
       "      <td>1987</td>\n",
       "      <td>3.80</td>\n",
       "      <td>6.00</td>\n",
       "      <td>Automatic 4-spd</td>\n",
       "      <td>Rear-Wheel Drive</td>\n",
       "      <td>Midsize Cars</td>\n",
       "      <td>Premium</td>\n",
       "      <td>20.60</td>\n",
       "      <td>14</td>\n",
       "      <td>21</td>\n",
       "      <td>16</td>\n",
       "      <td>555.44</td>\n",
       "      <td>2550</td>\n",
       "    </tr>\n",
       "  </tbody>\n",
       "</table>\n",
       "</div>"
      ],
      "text/plain": [
       "               Make                Model  Year  Engine Displacement  \\\n",
       "0        AM General    DJ Po Vehicle 2WD  1984                 2.50   \n",
       "1        AM General     FJ8c Post Office  1984                 4.20   \n",
       "2        AM General  Post Office DJ5 2WD  1985                 2.50   \n",
       "3        AM General  Post Office DJ8 2WD  1985                 4.20   \n",
       "4  ASC Incorporated                  GNX  1987                 3.80   \n",
       "\n",
       "   Cylinders     Transmission        Drivetrain                Vehicle Class  \\\n",
       "0       4.00  Automatic 3-spd     2-Wheel Drive  Special Purpose Vehicle 2WD   \n",
       "1       6.00  Automatic 3-spd     2-Wheel Drive  Special Purpose Vehicle 2WD   \n",
       "2       4.00  Automatic 3-spd  Rear-Wheel Drive  Special Purpose Vehicle 2WD   \n",
       "3       6.00  Automatic 3-spd  Rear-Wheel Drive  Special Purpose Vehicle 2WD   \n",
       "4       6.00  Automatic 4-spd  Rear-Wheel Drive                 Midsize Cars   \n",
       "\n",
       "  Fuel Type  Fuel Barrels/Year  City MPG  Highway MPG  Combined MPG  \\\n",
       "0   Regular              19.39        18           17            17   \n",
       "1   Regular              25.35        13           13            13   \n",
       "2   Regular              20.60        16           17            16   \n",
       "3   Regular              25.35        13           13            13   \n",
       "4   Premium              20.60        14           21            16   \n",
       "\n",
       "   CO2 Emission Grams/Mile  Fuel Cost/Year  \n",
       "0                   522.76            1950  \n",
       "1                   683.62            2550  \n",
       "2                   555.44            2100  \n",
       "3                   683.62            2550  \n",
       "4                   555.44            2550  "
      ]
     },
     "execution_count": 58,
     "metadata": {},
     "output_type": "execute_result"
    }
   ],
   "source": [
    "# Import any libraries you may need & the data\n",
    "\n",
    "vehicles_data = pd.read_csv('vehicles.csv')\n",
    "vehicles_data.head()"
   ]
  },
  {
   "cell_type": "markdown",
   "metadata": {},
   "source": [
    "Let's use the following variables for our analysis: Year, Cylinders, Fuel Barrels/Year, Combined MPG, and Fuel Cost/Year. We will use 'CO2 Emission Grams/Mile' as our outcome variable. \n",
    "\n",
    "Calculate the correlations between each of these variables and the outcome. Which variable do you think will be the most important in determining CO2 emissions? Which provides the least amount of helpful information for determining CO2 emissions? Add your responses as comments after your code."
   ]
  },
  {
   "cell_type": "code",
   "execution_count": 59,
   "metadata": {},
   "outputs": [
    {
     "data": {
      "text/plain": [
       "Index(['Make', 'Model', 'Year', 'Engine Displacement', 'Cylinders',\n",
       "       'Transmission', 'Drivetrain', 'Vehicle Class', 'Fuel Type',\n",
       "       'Fuel Barrels/Year', 'City MPG', 'Highway MPG', 'Combined MPG',\n",
       "       'CO2 Emission Grams/Mile', 'Fuel Cost/Year'],\n",
       "      dtype='object')"
      ]
     },
     "execution_count": 59,
     "metadata": {},
     "output_type": "execute_result"
    }
   ],
   "source": [
    "# Your response here. \n",
    "\n",
    "vehicles_data.columns"
   ]
  },
  {
   "cell_type": "code",
   "execution_count": 60,
   "metadata": {},
   "outputs": [
    {
     "data": {
      "text/html": [
       "<div>\n",
       "<style scoped>\n",
       "    .dataframe tbody tr th:only-of-type {\n",
       "        vertical-align: middle;\n",
       "    }\n",
       "\n",
       "    .dataframe tbody tr th {\n",
       "        vertical-align: top;\n",
       "    }\n",
       "\n",
       "    .dataframe thead th {\n",
       "        text-align: right;\n",
       "    }\n",
       "</style>\n",
       "<table border=\"1\" class=\"dataframe\">\n",
       "  <thead>\n",
       "    <tr style=\"text-align: right;\">\n",
       "      <th></th>\n",
       "      <th>Year</th>\n",
       "      <th>Cylinders</th>\n",
       "      <th>Fuel Barrels/Year</th>\n",
       "      <th>Combined MPG</th>\n",
       "      <th>Fuel Cost/Year</th>\n",
       "      <th>CO2 Emission Grams/Mile</th>\n",
       "    </tr>\n",
       "  </thead>\n",
       "  <tbody>\n",
       "    <tr>\n",
       "      <th>0</th>\n",
       "      <td>1984</td>\n",
       "      <td>4.00</td>\n",
       "      <td>19.39</td>\n",
       "      <td>17</td>\n",
       "      <td>1950</td>\n",
       "      <td>522.76</td>\n",
       "    </tr>\n",
       "    <tr>\n",
       "      <th>1</th>\n",
       "      <td>1984</td>\n",
       "      <td>6.00</td>\n",
       "      <td>25.35</td>\n",
       "      <td>13</td>\n",
       "      <td>2550</td>\n",
       "      <td>683.62</td>\n",
       "    </tr>\n",
       "    <tr>\n",
       "      <th>2</th>\n",
       "      <td>1985</td>\n",
       "      <td>4.00</td>\n",
       "      <td>20.60</td>\n",
       "      <td>16</td>\n",
       "      <td>2100</td>\n",
       "      <td>555.44</td>\n",
       "    </tr>\n",
       "  </tbody>\n",
       "</table>\n",
       "</div>"
      ],
      "text/plain": [
       "   Year  Cylinders  Fuel Barrels/Year  Combined MPG  Fuel Cost/Year  \\\n",
       "0  1984       4.00              19.39            17            1950   \n",
       "1  1984       6.00              25.35            13            2550   \n",
       "2  1985       4.00              20.60            16            2100   \n",
       "\n",
       "   CO2 Emission Grams/Mile  \n",
       "0                   522.76  \n",
       "1                   683.62  \n",
       "2                   555.44  "
      ]
     },
     "execution_count": 60,
     "metadata": {},
     "output_type": "execute_result"
    }
   ],
   "source": [
    "vehicles = vehicles_data[['Year', 'Cylinders', 'Fuel Barrels/Year', 'Combined MPG', 'Fuel Cost/Year', 'CO2 Emission Grams/Mile']]\n",
    "vehicles.head(3)"
   ]
  },
  {
   "cell_type": "code",
   "execution_count": 61,
   "metadata": {},
   "outputs": [
    {
     "data": {
      "text/plain": [
       "Year                       0\n",
       "Cylinders                  0\n",
       "Fuel Barrels/Year          0\n",
       "Combined MPG               0\n",
       "Fuel Cost/Year             0\n",
       "CO2 Emission Grams/Mile    0\n",
       "dtype: int64"
      ]
     },
     "execution_count": 61,
     "metadata": {},
     "output_type": "execute_result"
    }
   ],
   "source": [
    "vehicles.isna().sum()"
   ]
  },
  {
   "cell_type": "code",
   "execution_count": 62,
   "metadata": {},
   "outputs": [
    {
     "data": {
      "text/html": [
       "<div>\n",
       "<style scoped>\n",
       "    .dataframe tbody tr th:only-of-type {\n",
       "        vertical-align: middle;\n",
       "    }\n",
       "\n",
       "    .dataframe tbody tr th {\n",
       "        vertical-align: top;\n",
       "    }\n",
       "\n",
       "    .dataframe thead th {\n",
       "        text-align: right;\n",
       "    }\n",
       "</style>\n",
       "<table border=\"1\" class=\"dataframe\">\n",
       "  <thead>\n",
       "    <tr style=\"text-align: right;\">\n",
       "      <th></th>\n",
       "      <th>Year</th>\n",
       "      <th>Cylinders</th>\n",
       "      <th>Fuel Barrels/Year</th>\n",
       "      <th>Combined MPG</th>\n",
       "      <th>Fuel Cost/Year</th>\n",
       "      <th>CO2 Emission Grams/Mile</th>\n",
       "    </tr>\n",
       "  </thead>\n",
       "  <tbody>\n",
       "    <tr>\n",
       "      <th>Year</th>\n",
       "      <td>1.00</td>\n",
       "      <td>0.08</td>\n",
       "      <td>-0.22</td>\n",
       "      <td>0.20</td>\n",
       "      <td>-0.09</td>\n",
       "      <td>-0.22</td>\n",
       "    </tr>\n",
       "    <tr>\n",
       "      <th>Cylinders</th>\n",
       "      <td>0.08</td>\n",
       "      <td>1.00</td>\n",
       "      <td>0.74</td>\n",
       "      <td>-0.70</td>\n",
       "      <td>0.78</td>\n",
       "      <td>0.75</td>\n",
       "    </tr>\n",
       "    <tr>\n",
       "      <th>Fuel Barrels/Year</th>\n",
       "      <td>-0.22</td>\n",
       "      <td>0.74</td>\n",
       "      <td>1.00</td>\n",
       "      <td>-0.91</td>\n",
       "      <td>0.92</td>\n",
       "      <td>0.99</td>\n",
       "    </tr>\n",
       "    <tr>\n",
       "      <th>Combined MPG</th>\n",
       "      <td>0.20</td>\n",
       "      <td>-0.70</td>\n",
       "      <td>-0.91</td>\n",
       "      <td>1.00</td>\n",
       "      <td>-0.88</td>\n",
       "      <td>-0.93</td>\n",
       "    </tr>\n",
       "    <tr>\n",
       "      <th>Fuel Cost/Year</th>\n",
       "      <td>-0.09</td>\n",
       "      <td>0.78</td>\n",
       "      <td>0.92</td>\n",
       "      <td>-0.88</td>\n",
       "      <td>1.00</td>\n",
       "      <td>0.93</td>\n",
       "    </tr>\n",
       "    <tr>\n",
       "      <th>CO2 Emission Grams/Mile</th>\n",
       "      <td>-0.22</td>\n",
       "      <td>0.75</td>\n",
       "      <td>0.99</td>\n",
       "      <td>-0.93</td>\n",
       "      <td>0.93</td>\n",
       "      <td>1.00</td>\n",
       "    </tr>\n",
       "  </tbody>\n",
       "</table>\n",
       "</div>"
      ],
      "text/plain": [
       "                         Year  Cylinders  Fuel Barrels/Year  Combined MPG  \\\n",
       "Year                     1.00       0.08              -0.22          0.20   \n",
       "Cylinders                0.08       1.00               0.74         -0.70   \n",
       "Fuel Barrels/Year       -0.22       0.74               1.00         -0.91   \n",
       "Combined MPG             0.20      -0.70              -0.91          1.00   \n",
       "Fuel Cost/Year          -0.09       0.78               0.92         -0.88   \n",
       "CO2 Emission Grams/Mile -0.22       0.75               0.99         -0.93   \n",
       "\n",
       "                         Fuel Cost/Year  CO2 Emission Grams/Mile  \n",
       "Year                              -0.09                    -0.22  \n",
       "Cylinders                          0.78                     0.75  \n",
       "Fuel Barrels/Year                  0.92                     0.99  \n",
       "Combined MPG                      -0.88                    -0.93  \n",
       "Fuel Cost/Year                     1.00                     0.93  \n",
       "CO2 Emission Grams/Mile            0.93                     1.00  "
      ]
     },
     "execution_count": 62,
     "metadata": {},
     "output_type": "execute_result"
    }
   ],
   "source": [
    "vehicles_corr = vehicles.corr()\n",
    "vehicles_corr"
   ]
  },
  {
   "cell_type": "code",
   "execution_count": 63,
   "metadata": {},
   "outputs": [
    {
     "data": {
      "image/png": "[encoded data removed]",
      "text/plain": [
       "<Figure size 640x480 with 2 Axes>"
      ]
     },
     "metadata": {},
     "output_type": "display_data"
    }
   ],
   "source": [
    "sns.heatmap(vehicles_corr, annot=True)\n",
    "plt.show()"
   ]
  },
  {
   "cell_type": "markdown",
   "metadata": {},
   "source": [
    "Build a regression model for this data. What type of regression are you using? Add your responses as comments after your code."
   ]
  },
  {
   "cell_type": "markdown",
   "metadata": {},
   "source": [
    "'Year' shows a high correlation to all the values except to target variable 'CO2 Emission Grams/Mile'. \n",
    "This means it could/probably would lead to multicollinearity issues. \n",
    "\n",
    "\n",
    "So later we`ll exclude 'Year'"
   ]
  },
  {
   "cell_type": "code",
   "execution_count": 69,
   "metadata": {},
   "outputs": [
    {
     "data": {
      "text/html": [
       "<style type=\"text/css\">\n",
       "</style>\n",
       "<table id=\"T_017a2\">\n",
       "  <thead>\n",
       "    <tr>\n",
       "      <th class=\"blank level0\" >&nbsp;</th>\n",
       "      <th id=\"T_017a2_level0_col0\" class=\"col_heading level0 col0\" >Year</th>\n",
       "      <th id=\"T_017a2_level0_col1\" class=\"col_heading level0 col1\" >Cylinders</th>\n",
       "      <th id=\"T_017a2_level0_col2\" class=\"col_heading level0 col2\" >Fuel Barrels/Year</th>\n",
       "      <th id=\"T_017a2_level0_col3\" class=\"col_heading level0 col3\" >Combined MPG</th>\n",
       "      <th id=\"T_017a2_level0_col4\" class=\"col_heading level0 col4\" >Fuel Cost/Year</th>\n",
       "      <th id=\"T_017a2_level0_col5\" class=\"col_heading level0 col5\" >CO2 Emission Grams/Mile</th>\n",
       "    </tr>\n",
       "  </thead>\n",
       "  <tbody>\n",
       "    <tr>\n",
       "      <th id=\"T_017a2_level0_row0\" class=\"row_heading level0 row0\" >count</th>\n",
       "      <td id=\"T_017a2_row0_col0\" class=\"data row0 col0\" >35952.00</td>\n",
       "      <td id=\"T_017a2_row0_col1\" class=\"data row0 col1\" >35952.00</td>\n",
       "      <td id=\"T_017a2_row0_col2\" class=\"data row0 col2\" >35952.00</td>\n",
       "      <td id=\"T_017a2_row0_col3\" class=\"data row0 col3\" >35952.00</td>\n",
       "      <td id=\"T_017a2_row0_col4\" class=\"data row0 col4\" >35952.00</td>\n",
       "      <td id=\"T_017a2_row0_col5\" class=\"data row0 col5\" >35952.00</td>\n",
       "    </tr>\n",
       "    <tr>\n",
       "      <th id=\"T_017a2_level0_row1\" class=\"row_heading level0 row1\" >mean</th>\n",
       "      <td id=\"T_017a2_row1_col0\" class=\"data row1 col0\" >0.00</td>\n",
       "      <td id=\"T_017a2_row1_col1\" class=\"data row1 col1\" >0.00</td>\n",
       "      <td id=\"T_017a2_row1_col2\" class=\"data row1 col2\" >0.00</td>\n",
       "      <td id=\"T_017a2_row1_col3\" class=\"data row1 col3\" >0.00</td>\n",
       "      <td id=\"T_017a2_row1_col4\" class=\"data row1 col4\" >-0.00</td>\n",
       "      <td id=\"T_017a2_row1_col5\" class=\"data row1 col5\" >-0.00</td>\n",
       "    </tr>\n",
       "    <tr>\n",
       "      <th id=\"T_017a2_level0_row2\" class=\"row_heading level0 row2\" >std</th>\n",
       "      <td id=\"T_017a2_row2_col0\" class=\"data row2 col0\" >1.00</td>\n",
       "      <td id=\"T_017a2_row2_col1\" class=\"data row2 col1\" >1.00</td>\n",
       "      <td id=\"T_017a2_row2_col2\" class=\"data row2 col2\" >1.00</td>\n",
       "      <td id=\"T_017a2_row2_col3\" class=\"data row2 col3\" >1.00</td>\n",
       "      <td id=\"T_017a2_row2_col4\" class=\"data row2 col4\" >1.00</td>\n",
       "      <td id=\"T_017a2_row2_col5\" class=\"data row2 col5\" >1.00</td>\n",
       "    </tr>\n",
       "    <tr>\n",
       "      <th id=\"T_017a2_level0_row3\" class=\"row_heading level0 row3\" >min</th>\n",
       "      <td id=\"T_017a2_row3_col0\" class=\"data row3 col0\" >-1.66</td>\n",
       "      <td id=\"T_017a2_row3_col1\" class=\"data row3 col1\" >-2.15</td>\n",
       "      <td id=\"T_017a2_row3_col2\" class=\"data row3 col2\" >-3.93</td>\n",
       "      <td id=\"T_017a2_row3_col3\" class=\"data row3 col3\" >-2.53</td>\n",
       "      <td id=\"T_017a2_row3_col4\" class=\"data row3 col4\" >-2.55</td>\n",
       "      <td id=\"T_017a2_row3_col5\" class=\"data row3 col5\" >-3.68</td>\n",
       "    </tr>\n",
       "    <tr>\n",
       "      <th id=\"T_017a2_level0_row4\" class=\"row_heading level0 row4\" >25%</th>\n",
       "      <td id=\"T_017a2_row4_col0\" class=\"data row4 col0\" >-0.96</td>\n",
       "      <td id=\"T_017a2_row4_col1\" class=\"data row4 col1\" >-1.01</td>\n",
       "      <td id=\"T_017a2_row4_col2\" class=\"data row4 col2\" >-0.65</td>\n",
       "      <td id=\"T_017a2_row4_col3\" class=\"data row4 col3\" >-0.77</td>\n",
       "      <td id=\"T_017a2_row4_col4\" class=\"data row4 col4\" >-0.77</td>\n",
       "      <td id=\"T_017a2_row4_col5\" class=\"data row4 col5\" >-0.67</td>\n",
       "    </tr>\n",
       "    <tr>\n",
       "      <th id=\"T_017a2_level0_row5\" class=\"row_heading level0 row5\" >50%</th>\n",
       "      <td id=\"T_017a2_row5_col0\" class=\"data row5 col0\" >0.03</td>\n",
       "      <td id=\"T_017a2_row5_col1\" class=\"data row5 col1\" >0.13</td>\n",
       "      <td id=\"T_017a2_row5_col2\" class=\"data row5 col2\" >-0.06</td>\n",
       "      <td id=\"T_017a2_row5_col3\" class=\"data row5 col3\" >-0.18</td>\n",
       "      <td id=\"T_017a2_row5_col4\" class=\"data row5 col4\" >-0.08</td>\n",
       "      <td id=\"T_017a2_row5_col5\" class=\"data row5 col5\" >-0.06</td>\n",
       "    </tr>\n",
       "    <tr>\n",
       "      <th id=\"T_017a2_level0_row6\" class=\"row_heading level0 row6\" >75%</th>\n",
       "      <td id=\"T_017a2_row6_col0\" class=\"data row6 col0\" >0.92</td>\n",
       "      <td id=\"T_017a2_row6_col1\" class=\"data row6 col1\" >0.13</td>\n",
       "      <td id=\"T_017a2_row6_col2\" class=\"data row6 col2\" >0.67</td>\n",
       "      <td id=\"T_017a2_row6_col3\" class=\"data row6 col3\" >0.60</td>\n",
       "      <td id=\"T_017a2_row6_col4\" class=\"data row6 col4\" >0.61</td>\n",
       "      <td id=\"T_017a2_row6_col5\" class=\"data row6 col5\" >0.67</td>\n",
       "    </tr>\n",
       "    <tr>\n",
       "      <th id=\"T_017a2_level0_row7\" class=\"row_heading level0 row7\" >max</th>\n",
       "      <td id=\"T_017a2_row7_col0\" class=\"data row7 col0\" >1.61</td>\n",
       "      <td id=\"T_017a2_row7_col1\" class=\"data row7 col1\" >5.83</td>\n",
       "      <td id=\"T_017a2_row7_col2\" class=\"data row7 col2\" >6.60</td>\n",
       "      <td id=\"T_017a2_row7_col3\" class=\"data row7 col3\" >7.06</td>\n",
       "      <td id=\"T_017a2_row7_col4\" class=\"data row7 col4\" >7.71</td>\n",
       "      <td id=\"T_017a2_row7_col5\" class=\"data row7 col5\" >6.67</td>\n",
       "    </tr>\n",
       "  </tbody>\n",
       "</table>\n"
      ],
      "text/plain": [
       "<pandas.io.formats.style.Styler at 0x1f8bd85e210>"
      ]
     },
     "execution_count": 69,
     "metadata": {},
     "output_type": "execute_result"
    }
   ],
   "source": [
    "from sklearn.preprocessing import StandardScaler\n",
    "vehicles_scaled = pd.DataFrame(StandardScaler().fit_transform(vehicles), columns=vehicles.columns)\n",
    "vehicles_scaled.describe().style.format('{:.2f}')"
   ]
  },
  {
   "cell_type": "code",
   "execution_count": 70,
   "metadata": {},
   "outputs": [],
   "source": [
    "# Your response here. \n",
    "model = linear_model.LinearRegression()\n",
    "\n",
    "# X-y split\n",
    "X = vehicles_scaled.drop(['CO2 Emission Grams/Mile', 'Year'], axis=1)\n",
    "y = vehicles_scaled['CO2 Emission Grams/Mile']"
   ]
  },
  {
   "cell_type": "code",
   "execution_count": 71,
   "metadata": {},
   "outputs": [
    {
     "name": "stdout",
     "output_type": "stream",
     "text": [
      "Intercept: -3.2068119095153477e-16\n",
      "Coefficient: [ 0.01540363  0.73643022 -0.1359717   0.12515485]\n",
      "R2 score: 0.9802919387898396\n"
     ]
    }
   ],
   "source": [
    "result = model.fit(X, y)\n",
    "result.score(X, y)\n",
    "\n",
    "print(\"Intercept:\", result.intercept_)\n",
    "print(\"Coefficient:\", result.coef_)\n",
    "print(\"R2 score:\", result.score(X, y))"
   ]
  },
  {
   "cell_type": "markdown",
   "metadata": {},
   "source": [
    "Print your regression summary, and interpret the results. What are the most important varibles in your model and why? What can conclusions can you draw from your model and how confident in these conclusions are you? Add your responses as comments after your code."
   ]
  },
  {
   "cell_type": "code",
   "execution_count": null,
   "metadata": {},
   "outputs": [],
   "source": [
    "'''\n",
    "The higher the coefficient the stronger the influence of the feature on the target variable\n",
    "In our case 'Cylinders' has a coefficient of 0.736\n",
    "An R2 score of 0.98 is very (suspiciuosly) high, it could though indicate "
   ]
  },
  {
   "cell_type": "code",
   "execution_count": 51,
   "metadata": {},
   "outputs": [
    {
     "name": "stdout",
     "output_type": "stream",
     "text": [
      "                                   OLS Regression Results                                   \n",
      "============================================================================================\n",
      "Dep. Variable:     CO2 Emission Grams/Mile   R-squared (uncentered):                   0.999\n",
      "Model:                                 OLS   Adj. R-squared (uncentered):              0.999\n",
      "Method:                      Least Squares   F-statistic:                          6.604e+06\n",
      "Date:                     Thu, 21 Dec 2023   Prob (F-statistic):                        0.00\n",
      "Time:                             17:48:57   Log-Likelihood:                     -1.5506e+05\n",
      "No. Observations:                    35952   AIC:                                  3.101e+05\n",
      "Df Residuals:                        35948   BIC:                                  3.102e+05\n",
      "Df Model:                                4                                                  \n",
      "Covariance Type:                 nonrobust                                                  \n",
      "=====================================================================================\n",
      "                        coef    std err          t      P>|t|      [0.025      0.975]\n",
      "-------------------------------------------------------------------------------------\n",
      "Cylinders             1.1924      0.087     13.724      0.000       1.022       1.363\n",
      "Fuel Barrels/Year    22.3819      0.052    433.251      0.000      22.281      22.483\n",
      "Combined MPG          0.0899      0.010      9.047      0.000       0.070       0.109\n",
      "Fuel Cost/Year        0.0381      0.001     75.435      0.000       0.037       0.039\n",
      "==============================================================================\n",
      "Omnibus:                    78952.446   Durbin-Watson:                   0.810\n",
      "Prob(Omnibus):                  0.000   Jarque-Bera (JB):        463008735.365\n",
      "Skew:                          20.238   Prob(JB):                         0.00\n",
      "Kurtosis:                     557.478   Cond. No.                     1.79e+03\n",
      "==============================================================================\n",
      "\n",
      "Notes:\n",
      "[1] R² is computed without centering (uncentered) since the model does not contain a constant.\n",
      "[2] Standard Errors assume that the covariance matrix of the errors is correctly specified.\n",
      "[3] The condition number is large, 1.79e+03. This might indicate that there are\n",
      "strong multicollinearity or other numerical problems.\n"
     ]
    }
   ],
   "source": [
    "# Your response here. \n",
    "# Is this the summary meant in the question? Got it from ChatGPT\n",
    "import statsmodels.api as sm\n",
    "\n",
    "model = sm.OLS(y, X).fit()\n",
    "summary = model.summary()\n",
    "print(summary)"
   ]
  },
  {
   "cell_type": "markdown",
   "metadata": {},
   "source": [
    "## Challenge 2: Error Analysis"
   ]
  },
  {
   "cell_type": "markdown",
   "metadata": {},
   "source": [
    "I am suspicious about the last few parties I have thrown: it seems that the more people I invite the more people are unable to attend. To know if my hunch is supported by data, I have decided to do an analysis. I have collected my data in the table below, where X is the number of people I invited, and Y is the number of people who attended. \n",
    "\n",
    "|  X |  Y |\n",
    "|----|----|\n",
    "| 1  |  1 |\n",
    "| 3  |  2 |\n",
    "| 4  |  4 |\n",
    "| 6  |  4 |\n",
    "| 8  |  5 |\n",
    "| 9  |  7 |\n",
    "| 11 |  8 |\n",
    "| 14 |  13 |"
   ]
  },
  {
   "cell_type": "markdown",
   "metadata": {},
   "source": [
    "We want to know if the relationship modeled by the two random variables is linear or not, and therefore if it is appropriate to model it with a linear regression. \n",
    "First, build a dataframe with the data. "
   ]
  },
  {
   "cell_type": "code",
   "execution_count": 84,
   "metadata": {},
   "outputs": [
    {
     "data": {
      "text/html": [
       "<div>\n",
       "<style scoped>\n",
       "    .dataframe tbody tr th:only-of-type {\n",
       "        vertical-align: middle;\n",
       "    }\n",
       "\n",
       "    .dataframe tbody tr th {\n",
       "        vertical-align: top;\n",
       "    }\n",
       "\n",
       "    .dataframe thead th {\n",
       "        text-align: right;\n",
       "    }\n",
       "</style>\n",
       "<table border=\"1\" class=\"dataframe\">\n",
       "  <thead>\n",
       "    <tr style=\"text-align: right;\">\n",
       "      <th></th>\n",
       "      <th>X</th>\n",
       "      <th>Y</th>\n",
       "    </tr>\n",
       "  </thead>\n",
       "  <tbody>\n",
       "    <tr>\n",
       "      <th>0</th>\n",
       "      <td>1</td>\n",
       "      <td>1</td>\n",
       "    </tr>\n",
       "    <tr>\n",
       "      <th>1</th>\n",
       "      <td>3</td>\n",
       "      <td>2</td>\n",
       "    </tr>\n",
       "    <tr>\n",
       "      <th>2</th>\n",
       "      <td>4</td>\n",
       "      <td>4</td>\n",
       "    </tr>\n",
       "    <tr>\n",
       "      <th>3</th>\n",
       "      <td>6</td>\n",
       "      <td>4</td>\n",
       "    </tr>\n",
       "    <tr>\n",
       "      <th>4</th>\n",
       "      <td>8</td>\n",
       "      <td>5</td>\n",
       "    </tr>\n",
       "  </tbody>\n",
       "</table>\n",
       "</div>"
      ],
      "text/plain": [
       "   X  Y\n",
       "0  1  1\n",
       "1  3  2\n",
       "2  4  4\n",
       "3  6  4\n",
       "4  8  5"
      ]
     },
     "execution_count": 84,
     "metadata": {},
     "output_type": "execute_result"
    }
   ],
   "source": [
    "# Your code here.\n",
    "\n",
    "x_data = [1,3,4,6,8,9,11,14]\n",
    "y_data = [1,2,4,4,5,7,8,13]\n",
    "\n",
    "party_data = pd.DataFrame({'X': x_data, 'Y': y_data})\n",
    "party_data.head()\n"
   ]
  },
  {
   "cell_type": "markdown",
   "metadata": {},
   "source": [
    "Draw a dispersion diagram (scatter plot) for the data, and fit a regression line."
   ]
  },
  {
   "cell_type": "code",
   "execution_count": 85,
   "metadata": {},
   "outputs": [
    {
     "name": "stdout",
     "output_type": "stream",
     "text": [
      "Intercept: -0.43939393939393945\n",
      "Coefficient: [0.84848485]\n",
      "R2 score: 0.9316696375519905\n"
     ]
    }
   ],
   "source": [
    "model = linear_model.LinearRegression()\n",
    "X = party_data.drop('Y', axis=1) \n",
    "y = party_data['Y']\n",
    "\n",
    "result = model.fit(X, y)\n",
    "\n",
    "print(\"Intercept:\", result.intercept_)\n",
    "print(\"Coefficient:\", result.coef_)\n",
    "print(\"R2 score:\", result.score(X, y))"
   ]
  },
  {
   "cell_type": "code",
   "execution_count": 86,
   "metadata": {},
   "outputs": [
    {
     "data": {
      "image/png": "[encoded data removed]",
      "text/plain": [
       "<Figure size 640x480 with 1 Axes>"
      ]
     },
     "metadata": {},
     "output_type": "display_data"
    }
   ],
   "source": [
    "# Your code here.\n",
    "\n",
    "regression_line = result.intercept_ + party_data.X * result.coef_\n",
    "plt.plot(party_data.X, regression_line, c='orange')\n",
    "\n",
    "# Add line plot and scatter plot\n",
    "plt.scatter(party_data.X, party_data.Y)\n",
    "plt.xlabel('Invited')\n",
    "plt.title('Invited vs Arrvied')\n",
    "plt.show()"
   ]
  },
  {
   "cell_type": "markdown",
   "metadata": {},
   "source": [
    "What do you see? What does this plot tell you about the likely relationship between the variables? Print the results from your regression."
   ]
  },
  {
   "cell_type": "code",
   "execution_count": null,
   "metadata": {},
   "outputs": [],
   "source": [
    "# Your response here. \n",
    "# What exactly are the results? "
   ]
  },
  {
   "cell_type": "markdown",
   "metadata": {},
   "source": [
    "Do you see any problematic points, or outliers, in your data? Remove these points and recalculate your regression. Print the new dispersion diagram with your new model and the results of your model. "
   ]
  },
  {
   "cell_type": "code",
   "execution_count": 87,
   "metadata": {},
   "outputs": [
    {
     "data": {
      "image/png": "[encoded data removed]",
      "text/plain": [
       "<Figure size 640x480 with 1 Axes>"
      ]
     },
     "metadata": {},
     "output_type": "display_data"
    }
   ],
   "source": [
    "# Your response here. \n",
    "\n",
    "sns.boxplot(x='Y', data=party_data)\n",
    "plt.xlabel('Attended')\n",
    "plt.title('Boxplot of Attended')\n",
    "plt.show()"
   ]
  },
  {
   "cell_type": "code",
   "execution_count": null,
   "metadata": {},
   "outputs": [],
   "source": [
    "'''We can see from both graphs that 13 Attendees is an outlier.\n",
    "'''"
   ]
  },
  {
   "cell_type": "code",
   "execution_count": 88,
   "metadata": {},
   "outputs": [
    {
     "name": "stdout",
     "output_type": "stream",
     "text": [
      "Intercept: -0.43939393939393945\n",
      "Coefficient: [0.84848485]\n",
      "R2 score: 0.9316696375519905\n"
     ]
    }
   ],
   "source": [
    "party_data.drop(party_data.index[-1], inplace=True)\n",
    "result = model.fit(X, y)\n",
    "print(\"Intercept:\", result.intercept_)\n",
    "print(\"Coefficient:\", result.coef_)\n",
    "print(\"R2 score:\", result.score(X, y))"
   ]
  },
  {
   "cell_type": "code",
   "execution_count": 89,
   "metadata": {},
   "outputs": [
    {
     "data": {
      "image/png": "[encoded data removed]",
      "text/plain": [
       "<Figure size 640x480 with 1 Axes>"
      ]
     },
     "metadata": {},
     "output_type": "display_data"
    }
   ],
   "source": [
    "regression_line = result.intercept_ + party_data.X * result.coef_\n",
    "plt.plot(party_data.X, regression_line, c='orange')\n",
    "\n",
    "# Add line plot and scatter plot\n",
    "plt.scatter(party_data.X, party_data.Y)\n",
    "plt.xlabel('Invited')\n",
    "plt.title('Invited vs Arrvied')\n",
    "plt.show()"
   ]
  },
  {
   "cell_type": "markdown",
   "metadata": {},
   "source": [
    "What changed? Based on the results of the two models and your graphs, what can you say about the form of the data with the problematic point and without it?"
   ]
  },
  {
   "cell_type": "code",
   "execution_count": null,
   "metadata": {},
   "outputs": [],
   "source": [
    "# Your response here. \n"
   ]
  }
 ],
 "metadata": {
  "kernelspec": {
   "display_name": "Python 3",
   "language": "python",
   "name": "python3"
  },
  "language_info": {
   "codemirror_mode": {
    "name": "ipython",
    "version": 3
   },
   "file_extension": ".py",
   "mimetype": "text/x-python",
   "name": "python",
   "nbconvert_exporter": "python",
   "pygments_lexer": "ipython3",
   "version": "3.11.4"
  }
 },
 "nbformat": 4,
 "nbformat_minor": 2
}
